{
  "nbformat": 4,
  "nbformat_minor": 0,
  "metadata": {
    "colab": {
      "provenance": [],
      "include_colab_link": true
    },
    "kernelspec": {
      "name": "python3",
      "display_name": "Python 3"
    },
    "language_info": {
      "name": "python"
    }
  },
  "cells": [
    {
      "cell_type": "markdown",
      "metadata": {
        "id": "view-in-github",
        "colab_type": "text"
      },
      "source": [
        "<a href=\"https://colab.research.google.com/github/GloriaEURS/GloriaEURS/blob/main/Tarea_Media_de_vi.ipynb\" target=\"_parent\"><img src=\"https://colab.research.google.com/assets/colab-badge.svg\" alt=\"Open In Colab\"/></a>"
      ]
    },
    {
      "cell_type": "markdown",
      "source": [
        "# **Fórmula de la Media Aritmética**\n",
        "# La media aritmética es el promedio de una serie de números.\n",
        "\n",
        "## Para calcular la media aritmética, sumamos todos los valores y luego dividimos la suma por la cantidad de valores.\n",
        "\n",
        "## Si tenemos $n$ valores $(x_1, x_2, x_3, ..., x_n)$, la fórmula de la media aritmética se expresa de la siguiente manera:\n",
        "\n",
        "\\begin{align}\n",
        "        \\bar{x} = \\frac{1}{n}\\sum_{i=1}^{n}x_i\n",
        "\\end{align}\n",
        "\n",
        "## Donde:\n",
        "## - $\\bar{x}$ es el valor de la media aritmética.\n",
        "## - $x_1, x_2, x_3,\\dots, x_n$ son los valores individuales que deseamos promediar.\n",
        "## - $n$ es la cantidad de valores.\n",
        "\n",
        "# **Por ejemplo**, si tenemos los números 3, 5, 7 y 9, la media aritmética se calcula de la siguiente manera:\n",
        "\n",
        "## Media = (3 + 5 + 7 + 9) / 4\n",
        "## Media = 24 / 4\n",
        "## Media = 6\n",
        "\n",
        "## Por lo tanto, la media aritmética de estos números es 6.\n",
        "\n",
        "# La media aritmética es una medida estadística fundamental que se utiliza comúnmente para representar el valor promedio de un conjunto de datos.\n"
      ],
      "metadata": {
        "id": "AZi3dNd27YEP"
      }
    },
    {
      "cell_type": "markdown",
      "source": [
        "#**Forma para la media aritmética de nuetra matriz de datos**\n",
        " Con el siguiente código obtenemos el vector que contiene las medias arítmeticas de cada una de nuestras variables"
      ],
      "metadata": {
        "id": "Vl_mcHiSA8n7"
      }
    },
    {
      "cell_type": "code",
      "execution_count": null,
      "metadata": {
        "id": "gWm03S7z9tMT"
      },
      "outputs": [],
      "source": [
        "# Estadística Multivariada\n",
        "\n",
        "# Progrmando la media de la varibale i\n",
        "\n",
        "import ast, matplotlib.pyplot as plt, numpy as np\n",
        "\n",
        "while True:\n",
        "    print(\"Bienvenido al calculador de medias aritméticas en multivariada, por favor elige una opción\")\n",
        "    print(\"1. Calcular la media de unos datos\\n2. Salir\")\n",
        "\n",
        "    try:\n",
        "        n = int(input(\"Inserte la opción deseada:\\n\"))\n",
        "\n",
        "        if n == 1:\n",
        "            print(\"Antes de iniciar, verifica que tus vectores tengan la misma cantidad de datos\")\n",
        "            pre_lista = input(\"Inserta los valores de tu matriz con el formato [[a,b,c,d....,z], [a1,b1,c1,d1,...,z1],....,[an,bn,cn,dn,....,dn]]: Ejemplo [1, 2, 3, 4, 5], [6, 7, 8, 9, 10], [11, 12, 13, 14, 15]\\n\")\n",
        "\n",
        "            lista = ast.literal_eval(pre_lista)\n",
        "            A = np.array(lista)\n",
        "            print(f\"La longitud de A es{len(A)}\")\n",
        "            media_multivariada = np.mean(A, axis=0)\n",
        "            print()\n",
        "\n",
        "            print(\"Las variables quedaron de la siguiente forma:\")\n",
        "            for i in range(len(media_multivariada)):\n",
        "                print(f\"Variable: {i}, Valores: {A[:, i]}\")\n",
        "\n",
        "            media_deseada = int(input(\"Selecciona la variable que deseas calcular la media:\\n\"))\n",
        "\n",
        "            print(f\"La media de la variable {media_deseada} es {media_multivariada[media_deseada]}\")\n",
        "\n",
        "            # Crear un gráfico de barras para visualizar las medias\n",
        "            plt.bar(range(len(media_multivariada)), media_multivariada)\n",
        "            plt.xlabel('Variable')\n",
        "            plt.ylabel('Media')\n",
        "            plt.title('Medias de las Variables Multivariadas')\n",
        "            plt.show()\n",
        "\n",
        "        elif n == 2:\n",
        "            break\n",
        "\n",
        "    except ValueError:\n",
        "        print(\"No es un valor válido\")\n"
      ]
    },
    {
      "cell_type": "markdown",
      "source": [
        "Esto es con los datos que dieron en clases\n"
      ],
      "metadata": {
        "id": "qwp5qWsJoA0f"
      }
    },
    {
      "cell_type": "code",
      "source": [
        "import ast, matplotlib.pyplot as plt, numpy as np\n",
        "\n",
        "while True:\n",
        "    print(\"Bienvenido al calculador de medias aritméticas en multivariada, por favor elige una opción\")\n",
        "    print(\"1. Calcular la media de unos datos\\n2. Salir\")\n",
        "\n",
        "    try:\n",
        "        n = int(input(\"Inserte la opción deseada:\\n\"))\n",
        "\n",
        "        if n == 1:\n",
        "            print(\"Para este ejemplo tomaremos los siguientes datos \")\n",
        "            v_1 = [90, 60, 58, 85, 60, 56, 65, 70, 55, 60]\n",
        "            v_2 = [1.86, 1.60, 1.57, 1.80, 1.67, 1.55, 1.62, 1.70, 1.55, 1.57]\n",
        "            v_3 = [round(peso/(altura ** 2),2) for peso, altura in zip(v_1, v_2)]\n",
        "            print(f\"Pesos: {v_1}\\nAlturas (en m): {v_2}\\nIMC: {v_3}\")\n",
        "\n",
        "            A = np.column_stack((v_1, v_2, v_3))\n",
        "            media_multivariada = np.mean(A, axis=0)\n",
        "            print()\n",
        "\n",
        "            print(\"Las variables quedaron de la siguiente forma:\")\n",
        "            for i in range(len(media_multivariada)):\n",
        "                print(f\"Variable {i+1}, Valores: {A[:, i]}\")\n",
        "\n",
        "            media_deseada = int(input(\"Selecciona la variable que deseas calcular la media:\\n\"))\n",
        "\n",
        "            print(f\"La media de la variable {media_deseada} es {media_multivariada[media_deseada-1]}\")\n",
        "\n",
        "            # Crear un gráfico de barras para visualizar las medias\n",
        "\n",
        "            if media_deseada == 1:\n",
        "                valores_x = range(1, len(v_1) + 1)\n",
        "\n",
        "                # Creando la gráfica de puntos\n",
        "                plt.scatter(valores_x, v_1, marker='o', color='b', label='Datos de la variable 1')\n",
        "                plt.scatter(len(v_1) + 1, media_multivariada[media_deseada-1], marker='x', color='r', label='Media')\n",
        "                # Titulos\n",
        "                plt.xlabel('Cantidad de Datos')\n",
        "                plt.ylabel('Pesos')\n",
        "                plt.title('Distribución de Pesos')\n",
        "\n",
        "                plt.show()\n",
        "\n",
        "            elif media_deseada == 2:\n",
        "                valores_x = range(1, len(v_2) + 1)\n",
        "                # Create the scatter plot\n",
        "                plt.scatter(valores_x, v_2, marker='o', color='b', label='Datos de la variable 2')\n",
        "                plt.scatter(len(v_2) + 1, media_multivariada[media_deseada-1], marker='x', color='r', label='Media')\n",
        "                # Add labels and a title\n",
        "                plt.xlabel('Cantidad de Datos')\n",
        "                plt.ylabel('Alturas')\n",
        "                plt.title('Distribución de alturas')\n",
        "\n",
        "                plt.show()\n",
        "\n",
        "            else:\n",
        "\n",
        "                valores_x = range(1, len(v_3) + 1)\n",
        "\n",
        "                # Create the scatter plot\n",
        "                plt.scatter(valores_x, v_3, marker='o', color='b', label='Datos de la variable 3')\n",
        "                plt.scatter(len(v_3) + 1, media_multivariada[media_deseada-1], marker='x', color='r', label='Media')\n",
        "                # Add labels and a title\n",
        "                plt.xlabel('Cantidad de Datos')\n",
        "                plt.ylabel('IMC')\n",
        "                plt.title('Distribución de IMC')\n",
        "\n",
        "                plt.show()\n",
        "\n",
        "        elif n == 2:\n",
        "            break\n",
        "\n",
        "        else:\n",
        "            print(\"Elige una opción valida\")\n",
        "    except ValueError:\n",
        "        print(\"No es un valor válido\")"
      ],
      "metadata": {
        "id": "7oxBrhwcQVgR"
      },
      "execution_count": null,
      "outputs": []
    }
  ]
}