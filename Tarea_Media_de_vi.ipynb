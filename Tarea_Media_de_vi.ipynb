{
  "nbformat": 4,
  "nbformat_minor": 0,
  "metadata": {
    "colab": {
      "provenance": [],
      "include_colab_link": true
    },
    "kernelspec": {
      "name": "python3",
      "display_name": "Python 3"
    },
    "language_info": {
      "name": "python"
    }
  },
  "cells": [
    {
      "cell_type": "markdown",
      "metadata": {
        "id": "view-in-github",
        "colab_type": "text"
      },
      "source": [
        "<a href=\"https://colab.research.google.com/github/GloriaEURS/GloriaEURS/blob/main/Tarea_Media_de_vi.ipynb\" target=\"_parent\"><img src=\"https://colab.research.google.com/assets/colab-badge.svg\" alt=\"Open In Colab\"/></a>"
      ]
    },
    {
      "cell_type": "markdown",
      "source": [
        "# **Fórmula de la Media Aritmética**\n",
        "# La media aritmética es el promedio de una serie de números.\n",
        "\n",
        "## Para calcular la media aritmética, sumamos todos los valores y luego dividimos la suma por la cantidad de valores.\n",
        "\n",
        "## Si tenemos $n$ valores $(x_1, x_2, x_3, ..., x_n)$, la fórmula de la media aritmética se expresa de la siguiente manera:\n",
        "\n",
        "\\begin{align}\n",
        "        \\bar{x} = \\frac{1}{n}\\sum_{i=1}^{n}x_i\n",
        "\\end{align}\n",
        "\n",
        "## Donde:\n",
        "## - $\\bar{x}$ es el valor de la media aritmética.\n",
        "## - $x_1, x_2, x_3,\\dots, x_n$ son los valores individuales que deseamos promediar.\n",
        "## - $n$ es la cantidad de valores.\n",
        "\n",
        "# **Por ejemplo**, si tenemos los números 3, 5, 7 y 9, la media aritmética se calcula de la siguiente manera:\n",
        "\n",
        "## Media = (3 + 5 + 7 + 9) / 4\n",
        "## Media = 24 / 4\n",
        "## Media = 6\n",
        "\n",
        "## Por lo tanto, la media aritmética de estos números es 6.\n",
        "\n",
        "# La media aritmética es una medida estadística fundamental que se utiliza comúnmente para representar el valor promedio de un conjunto de datos.\n"
      ],
      "metadata": {
        "id": "AZi3dNd27YEP"
      }
    },
    {
      "cell_type": "markdown",
      "source": [
        "#**Forma para la media aritmética de nuetra matriz de datos**\n",
        " Con el siguiente código obtenemos el vector que contiene las medias arítmeticas de cada una de nuestras variables"
      ],
      "metadata": {
        "id": "Vl_mcHiSA8n7"
      }
    },
    {
      "cell_type": "code",
      "execution_count": null,
      "metadata": {
        "id": "gWm03S7z9tMT",
        "colab": {
          "base_uri": "https://localhost:8080/",
          "height": 896
        },
        "outputId": "d8f326c0-6600-40df-dcc7-43f8a2a5e89c"
      },
      "outputs": [
        {
          "output_type": "stream",
          "name": "stdout",
          "text": [
            "Bienvenido al calculador de medias aritméticas en multivariada, por favor elige una opción\n",
            "1. Calcular la media de unos datos\n",
            "2. Salir\n",
            "Inserte la opción deseada:\n",
            "1\n",
            "Antes de iniciar, verifica que tus vectores tengan la misma cantidad de datos\n",
            "Inserta los valores de tu matriz con el formato [[a,b,c,d....,z], [a1,b1,c1,d1,...,z1],....,[an,bn,cn,dn,....,dn]]: Ejemplo [1, 2, 3, 4, 5], [6, 7, 8, 9, 10], [11, 12, 13, 14, 15]\n",
            "[1, 2, 3, 4, 5], [6, 7, 8, 9, 10], [11, 12, 13, 14, 15]\n",
            "La longitud de A es3\n",
            "Las variables quedaron de la siguiente forma:\n",
            "Variable: 0, Valores: [ 1  6 11]\n",
            "Variable: 1, Valores: [ 2  7 12]\n",
            "Variable: 2, Valores: [ 3  8 13]\n",
            "Variable: 3, Valores: [ 4  9 14]\n",
            "Variable: 4, Valores: [ 5 10 15]\n",
            "Selecciona la variable que deseas calcular la media:\n",
            "2\n",
            "La media de la variable 2 es 8.0\n"
          ]
        },
        {
          "output_type": "display_data",
          "data": {
            "text/plain": [
              "<Figure size 640x480 with 1 Axes>"
            ],
            "image/png": "[encoded data removed]"
          },
          "metadata": {}
        },
        {
          "name": "stdout",
          "output_type": "stream",
          "text": [
            "Bienvenido al calculador de medias aritméticas en multivariada, por favor elige una opción\n",
            "1. Calcular la media de unos datos\n",
            "2. Salir\n",
            "Inserte la opción deseada:\n",
            "2\n"
          ]
        }
      ],
      "source": [
        "# Estadística Multivariada\n",
        "\n",
        "# Progrmando la media de la varibale i\n",
        "\n",
        "import ast, matplotlib.pyplot as plt, numpy as np\n",
        "\n",
        "while True:\n",
        "    print(\"Bienvenido al calculador de medias aritméticas en multivariada, por favor elige una opción\")\n",
        "    print(\"1. Calcular la media de unos datos\\n2. Salir\")\n",
        "\n",
        "    try:\n",
        "        n = int(input(\"Inserte la opción deseada:\\n\"))\n",
        "\n",
        "        if n == 1:\n",
        "            print(\"Antes de iniciar, verifica que tus vectores tengan la misma cantidad de datos\")\n",
        "            pre_lista = input(\"Inserta los valores de tu matriz con el formato [[a,b,c,d....,z], [a1,b1,c1,d1,...,z1],....,[an,bn,cn,dn,....,dn]]: Ejemplo [1, 2, 3, 4, 5], [6, 7, 8, 9, 10], [11, 12, 13, 14, 15]\\n\")\n",
        "\n",
        "            lista = ast.literal_eval(pre_lista)\n",
        "            A = np.array(lista)\n",
        "            print(f\"La longitud de A es{len(A)}\")\n",
        "            media_multivariada = np.mean(A, axis=0)\n",
        "            print()\n",
        "\n",
        "            print(\"Las variables quedaron de la siguiente forma:\")\n",
        "            for i in range(len(media_multivariada)):\n",
        "                print(f\"Variable: {i}, Valores: {A[:, i]}\")\n",
        "\n",
        "            media_deseada = int(input(\"Selecciona la variable que deseas calcular la media:\\n\"))\n",
        "\n",
        "            print(f\"La media de la variable {media_deseada} es {media_multivariada[media_deseada]}\")\n",
        "\n",
        "            # Crear un gráfico de barras para visualizar las medias\n",
        "            plt.bar(range(len(media_multivariada)), media_multivariada)\n",
        "            plt.xlabel('Variable')\n",
        "            plt.ylabel('Media')\n",
        "            plt.title('Medias de las Variables Multivariadas')\n",
        "            plt.show()\n",
        "\n",
        "        elif n == 2:\n",
        "            break\n",
        "\n",
        "    except ValueError:\n",
        "        print(\"No es un valor válido\")\n"
      ]
    }
  ]
}