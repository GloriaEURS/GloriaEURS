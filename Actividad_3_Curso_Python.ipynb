{
  "nbformat": 4,
  "nbformat_minor": 0,
  "metadata": {
    "colab": {
      "provenance": [],
      "include_colab_link": true
    },
    "kernelspec": {
      "name": "python3",
      "display_name": "Python 3"
    },
    "language_info": {
      "name": "python"
    }
  },
  "cells": [
    {
      "cell_type": "markdown",
      "metadata": {
        "id": "view-in-github",
        "colab_type": "text"
      },
      "source": [
        "<a href=\"https://colab.research.google.com/github/GloriaEURS/GloriaEURS/blob/main/Actividad_3_Curso_Python.ipynb\" target=\"_parent\"><img src=\"https://colab.research.google.com/assets/colab-badge.svg\" alt=\"Open In Colab\"/></a>"
      ]
    },
    {
      "cell_type": "markdown",
      "source": [
        "# **Curso Taller Python** #\n",
        "![AV](https://encrypted-tbn0.gstatic.com/images?q=tbn:ANd9GcQDDye3gWG_GBAc5jYFsrPU6-pVdG2WuG5tFQ&usqp=CAU)"
      ],
      "metadata": {
        "id": "GO5sVS7of4FN"
      }
    },
    {
      "cell_type": "markdown",
      "source": [
        "**Actualizado:** 17 de Septiembre de 2024\n",
        "\n",
        "**Autor:** Gloria Estela Urania Ruíz Sánchez.\n",
        "\n",
        "**Actividad** Reporte de Resultados\n",
        "\n",
        "A continuación, se presenta el resultado y el análisis de los códigos proporcionados por el curso. 😇\n",
        "\n"
      ],
      "metadata": {
        "id": "FQb3MRtkezxk"
      }
    },
    {
      "cell_type": "markdown",
      "source": [
        "#Definición e impresión de Variables"
      ],
      "metadata": {
        "id": "krJWghJ35hCF"
      }
    },
    {
      "cell_type": "code",
      "execution_count": 1,
      "metadata": {
        "id": "uhmMdYT-4-jw",
        "colab": {
          "base_uri": "https://localhost:8080/"
        },
        "outputId": "a26e478c-d868-4ebe-9900-4ddbe6d0477d"
      },
      "outputs": [
        {
          "output_type": "stream",
          "name": "stdout",
          "text": [
            "Donald\n",
            "Ottawa\n",
            "Coyoacan\n",
            "Coyote\n"
          ]
        }
      ],
      "source": [
        "miVariableNombre = \"Donald\"\n",
        "MiVariableNombre = \"Ottawa\"\n",
        "mi_variable_nombre = \"Coyoacan\"\n",
        "_variable_nombre = \"Coyote\"\n",
        "\n",
        "print(miVariableNombre)\n",
        "print(MiVariableNombre)\n",
        "print(mi_variable_nombre)\n",
        "print(_variable_nombre)"
      ]
    },
    {
      "cell_type": "markdown",
      "source": [
        "**Comentario**\n",
        "\n",
        "Las variables se definen con diferentes estilos de nomenclatura y se imprimen correctamente. Python es sensible a las mayúsculas y minúsculas, por lo que cada variable se trata de manera independiente."
      ],
      "metadata": {
        "id": "dQ7Eajwx_ExK"
      }
    },
    {
      "cell_type": "markdown",
      "source": [
        "# Concatenación de Variables de Tipo Cadena\n"
      ],
      "metadata": {
        "id": "Sl-RlAMTAnog"
      }
    },
    {
      "cell_type": "code",
      "source": [
        "print(\"miVariableNombre: \",miVariableNombre)\n",
        "print(\"MiVariableNombre: \"+MiVariableNombre) # Las variables son cadenas (strings)"
      ],
      "metadata": {
        "id": "52nPhLLp6Flt",
        "colab": {
          "base_uri": "https://localhost:8080/"
        },
        "outputId": "3a318413-22ce-4398-e4b5-2bdad5c1c5dc"
      },
      "execution_count": null,
      "outputs": [
        {
          "output_type": "stream",
          "name": "stdout",
          "text": [
            "miVariableNombre:  Donald\n",
            "MiVariableNombre: Rosario\n"
          ]
        }
      ]
    },
    {
      "cell_type": "markdown",
      "source": [
        "**Comentario**\n",
        "\n",
        "La primera línea usa una coma para imprimir la variable junto con una cadena, lo que inserta un espacio adicional entre el texto y el valor de la variable. La segunda línea usa el operador + para concatenar la cadena y la variable, sin espacio adicional entre ellos."
      ],
      "metadata": {
        "id": "rvp7a_Ut_Wdh"
      }
    },
    {
      "cell_type": "markdown",
      "source": [
        "#Tipos de Variables"
      ],
      "metadata": {
        "id": "i8sHjB-Q75_m"
      }
    },
    {
      "cell_type": "code",
      "source": [
        "Cadena = \"Hola!\"\n",
        "Cadena2 = 'Adios'\n",
        "Cadena3 =\"Hola a todos l@s 'alumn@s'  del curso\"\n",
        "Entero = 20   # No tiene parte decimal\n",
        "Real = 20.5   # Tiene parte decimal\n",
        "Real2= 1/3    # Division de dos enteros\n",
        "Complejo = 1 - 2j\n",
        "Booleano = True  # Solamente admite dos valores: True - False\n",
        "\n",
        "print(Cadena)\n",
        "print(Cadena2)\n",
        "print(Cadena3)\n",
        "print(Entero)\n",
        "print(Real)\n",
        "print(Real2)\n",
        "print(Complejo)\n",
        "print(Complejo.real)\n",
        "print(Complejo.imag)\n",
        "print(Booleano)"
      ],
      "metadata": {
        "id": "xTLsRT9B8Nsh",
        "colab": {
          "base_uri": "https://localhost:8080/"
        },
        "outputId": "0128d2a8-4045-478e-9082-c01a6a4d1bc1"
      },
      "execution_count": 2,
      "outputs": [
        {
          "output_type": "stream",
          "name": "stdout",
          "text": [
            "Hola!\n",
            "Adios\n",
            "Hola a todos l@s 'alumn@s'  del curso\n",
            "20\n",
            "20.5\n",
            "0.3333333333333333\n",
            "(1-2j)\n",
            "1.0\n",
            "-2.0\n",
            "True\n"
          ]
        }
      ]
    },
    {
      "cell_type": "markdown",
      "source": [
        "**Comentario**\n",
        "\n",
        "Las variables de tipo cadena, entero, flotante, complejo y booleano se imprimen correctamente.\n",
        "La división de enteros 1/3 produce un número flotante.\n",
        "La parte real e imaginaria del número complejo se accede correctamente con Complejo.real y Complejo.imag."
      ],
      "metadata": {
        "id": "Zpamy5Li_maA"
      }
    },
    {
      "cell_type": "markdown",
      "source": [
        "# Impresión de tipos de variables."
      ],
      "metadata": {
        "id": "m9z1f9-Z-idw"
      }
    },
    {
      "cell_type": "code",
      "source": [
        "print(type(Cadena))\n",
        "print(type(Cadena2))\n",
        "print(type(Entero))\n",
        "print(type(Real))\n",
        "print(type(Complejo))\n",
        "print(type(Complejo.real))\n",
        "print(type(Booleano))"
      ],
      "metadata": {
        "id": "ati3amiN-TSO",
        "colab": {
          "base_uri": "https://localhost:8080/"
        },
        "outputId": "2b4a01bd-0816-45ee-aeac-1f5888c2dbf6"
      },
      "execution_count": 3,
      "outputs": [
        {
          "output_type": "stream",
          "name": "stdout",
          "text": [
            "<class 'str'>\n",
            "<class 'str'>\n",
            "<class 'int'>\n",
            "<class 'float'>\n",
            "<class 'complex'>\n",
            "<class 'float'>\n",
            "<class 'bool'>\n"
          ]
        }
      ]
    },
    {
      "cell_type": "markdown",
      "source": [
        "**Comentario**\n",
        "\n",
        "Los tipos de las variables se imprimen correctamente, mostrando que las cadenas son de tipo str, los enteros son int, los números flotantes son float, los números complejos son complex, y los booleanos son bool."
      ],
      "metadata": {
        "id": "brPCpcVt_0vZ"
      }
    },
    {
      "cell_type": "markdown",
      "source": [
        "#Asignación de tipos de variables"
      ],
      "metadata": {
        "id": "m4IGOtsb9-NC"
      }
    },
    {
      "cell_type": "code",
      "source": [
        "cadena = str(3)    # cadena tendrá el valor: '3'\n",
        "entero = int(3.1)  # entero tendrá el valor:  3\n",
        "real = float(3)    # real tendrá el valor: 3.\n",
        "continuar = bool(True)\n",
        "\n",
        "print(cadena,entero,real,continuar)"
      ],
      "metadata": {
        "id": "sjbEojPz-n2Q",
        "colab": {
          "base_uri": "https://localhost:8080/"
        },
        "outputId": "0c457b64-8863-4515-dd07-a52a1d223fdb"
      },
      "execution_count": 4,
      "outputs": [
        {
          "output_type": "stream",
          "name": "stdout",
          "text": [
            "3 3 3.0 True\n"
          ]
        }
      ]
    },
    {
      "cell_type": "markdown",
      "source": [
        "**Comentario**\n",
        "\n",
        "La conversión de tipos se realiza correctamente:\n",
        "\n",
        "- str(3) convierte el entero 3 a la cadena '3'.\n",
        "\n",
        "- int(3.1) convierte el flotante 3.1 a entero 3, truncando la parte decimal.\n",
        "\n",
        "- float(3) convierte el entero 3 a flotante 3.0.\n",
        "\n",
        "- bool(True) mantiene el valor True."
      ],
      "metadata": {
        "id": "mOFcN5LZ__rk"
      }
    },
    {
      "cell_type": "markdown",
      "source": [
        "# Cadenas (Srings)"
      ],
      "metadata": {
        "id": "ZV_4ECJhCX2X"
      }
    },
    {
      "cell_type": "code",
      "source": [
        "print(\"Hola\")\n",
        "print('Hola')\n",
        "print(\"Hola mis estimad@s 'alumn@s' de primer año.\")\n",
        "texto = \"\"\"Lorem ipsum dolor sit amet,\n",
        "consectetur adipiscing elit,\n",
        "sed do eiusmod tempor incididunt\n",
        "ut labore et dolore magna aliqua.\"\"\"\n",
        "print(texto)"
      ],
      "metadata": {
        "id": "pVCm3DKD-hjx",
        "colab": {
          "base_uri": "https://localhost:8080/"
        },
        "outputId": "08057215-b361-4dc5-8aa9-75276ebc49be"
      },
      "execution_count": null,
      "outputs": [
        {
          "output_type": "stream",
          "name": "stdout",
          "text": [
            "Hola\n",
            "Hola\n",
            "Hola mis estimad@s 'alumn@s' de primer año.\n",
            "Lorem ipsum dolor sit amet,\n",
            "consectetur adipiscing elit,\n",
            "sed do eiusmod tempor incididunt\n",
            "ut labore et dolore magna aliqua.\n"
          ]
        }
      ]
    },
    {
      "cell_type": "markdown",
      "source": [
        "**Comentario**\n",
        "\n",
        "Se imprimen correctamente cadenas simples, cadenas con comillas simples dentro de comillas dobles, y cadenas multilínea usando triple comillas. El texto multilínea que esta en latín se mantiene el formato con saltos de línea. Podemos traducirlo al español con bibliotecas especificas como \"googletrans\" y \"translator\" si se requiere."
      ],
      "metadata": {
        "id": "z67_Hq_NBCg2"
      }
    },
    {
      "cell_type": "markdown",
      "source": [
        "# Elementos de la cadena"
      ],
      "metadata": {
        "id": "dq8hFhrNDTl5"
      }
    },
    {
      "cell_type": "code",
      "source": [
        "Saludo = \"Hola a todos!\"\n",
        "print(\"La cadena tiene :\",len(Saludo))\n",
        "print(Saludo[0])\n",
        "print(Saludo[12])\n",
        "print(Saludo[0],\"...\",Saludo[12] )\n",
        "print(len(Saludo))\n",
        "print(Saludo[0],\"...\",Saludo[len(Saludo)-1] )\n",
        "print(Saludo[10])"
      ],
      "metadata": {
        "id": "pLJNjkiNDXXj",
        "colab": {
          "base_uri": "https://localhost:8080/"
        },
        "outputId": "4bfbce43-5846-4772-880b-4c5fab6675c8"
      },
      "execution_count": 5,
      "outputs": [
        {
          "output_type": "stream",
          "name": "stdout",
          "text": [
            "La cadena tiene : 13\n",
            "H\n",
            "!\n",
            "H ... !\n",
            "13\n",
            "H ... !\n",
            "o\n"
          ]
        }
      ]
    },
    {
      "cell_type": "markdown",
      "source": [
        "**Comentario**\n",
        "\n",
        "Se muestra la longitud de la cadena y se accede a caracteres específicos usando índices. Los índices comienzan desde 0.\n",
        "\n",
        "La impresión de caracteres específicos y el uso de slicing para obtener el último carácter se demuestra correctamente."
      ],
      "metadata": {
        "id": "uf02q8AKBpKk"
      }
    },
    {
      "cell_type": "markdown",
      "source": [
        "# Comprobar si existe una cadena en otra"
      ],
      "metadata": {
        "id": "Y6Quuv3DFPM2"
      }
    },
    {
      "cell_type": "code",
      "source": [
        "texto = \"Los mejores momentos de la vida son gratis!\"\n",
        "\n",
        "print(\"momentos\" in texto)\n",
        "print(\"grandes\" in texto)"
      ],
      "metadata": {
        "id": "KJ00qQ0KEuan",
        "colab": {
          "base_uri": "https://localhost:8080/"
        },
        "outputId": "5452992f-90e5-4e00-bca4-c5ca870bbcb1"
      },
      "execution_count": 6,
      "outputs": [
        {
          "output_type": "stream",
          "name": "stdout",
          "text": [
            "True\n",
            "False\n"
          ]
        }
      ]
    },
    {
      "cell_type": "markdown",
      "source": [
        "**Comentario**\n",
        "\n",
        "- La primera comprobación (\"momentos\" in texto) devuelve True porque \"momentos\" está en la cadena.\n",
        "\n",
        "- La segunda comprobación (\"grandes\" in texto) devuelve False porque \"grandes\" no está en la cadena."
      ],
      "metadata": {
        "id": "7H82cPE2B-8m"
      }
    },
    {
      "cell_type": "markdown",
      "source": [
        "# Slicing (Seperación) de cadenas"
      ],
      "metadata": {
        "id": "3ZYj0ujqEply"
      }
    },
    {
      "cell_type": "code",
      "source": [
        "mensaje = \"Hola, mundo!\"\n",
        "\n",
        "print(mensaje)\n",
        "print(mensaje[:4])\n",
        "print(mensaje[4:6])\n",
        "print(mensaje[6:])"
      ],
      "metadata": {
        "id": "7DLqCT0qFIvj",
        "colab": {
          "base_uri": "https://localhost:8080/"
        },
        "outputId": "ec664433-ae23-4dfc-8903-a71c9eefa181"
      },
      "execution_count": 7,
      "outputs": [
        {
          "output_type": "stream",
          "name": "stdout",
          "text": [
            "Hola, mundo!\n",
            "Hola\n",
            ", \n",
            "mundo!\n"
          ]
        }
      ]
    },
    {
      "cell_type": "markdown",
      "source": [
        "**Comentario**\n",
        "\n",
        "El slicing permite extraer subcadenas. mensaje[:4] toma desde el inicio hasta el índice 4, mensaje[4:6] toma del índice 4 al 6, y mensaje[6:] toma desde el índice 6 hasta el final."
      ],
      "metadata": {
        "id": "v-Y1rqn9CPtu"
      }
    },
    {
      "cell_type": "markdown",
      "source": [
        "# Métodos de cadenas\n",
        "\n",
        "> Referencia:\n",
        "> [String Methods](https://www.w3schools.com/python/python_ref_string.asp)"
      ],
      "metadata": {
        "id": "8HPzFJULGasJ"
      }
    },
    {
      "cell_type": "code",
      "source": [
        "mensaje = \"  Bienvevidos todos los asistentes\"\n",
        "\n",
        "print(mensaje)\n",
        "print(mensaje.upper())   # Cambia la cadena a mayúsculas\n",
        "print(mensaje.lower())   # Cambia la cadena a minúsculas\n",
        "print(mensaje.strip())   # Quita los espacios al inicio de la cadena\n",
        "print(mensaje.replace(\"m\",\"M\")) # Reemplaza m por M\n",
        "print(mensaje.capitalize())  # Inicia la cadena con mayúscula"
      ],
      "metadata": {
        "id": "Tasr7B5zGdYN",
        "colab": {
          "base_uri": "https://localhost:8080/"
        },
        "outputId": "49632530-41de-46a8-9f21-fd556f775fe3"
      },
      "execution_count": 8,
      "outputs": [
        {
          "output_type": "stream",
          "name": "stdout",
          "text": [
            "  Bienvevidos todos los asistentes\n",
            "  BIENVEVIDOS TODOS LOS ASISTENTES\n",
            "  bienvevidos todos los asistentes\n",
            "Bienvevidos todos los asistentes\n",
            "  Bienvevidos todos los asistentes\n",
            "  bienvevidos todos los asistentes\n"
          ]
        }
      ]
    },
    {
      "cell_type": "markdown",
      "source": [
        "**Comentario**\n",
        "\n",
        "- capitalize() convierte el primer carácter a mayúscula, dejando el resto en minúsculas"
      ],
      "metadata": {
        "id": "hCKtu1VcCeHv"
      }
    },
    {
      "cell_type": "markdown",
      "source": [
        "# Formato de cadenas"
      ],
      "metadata": {
        "id": "7UDWatwsIj-f"
      }
    },
    {
      "cell_type": "code",
      "source": [
        "precio= 560\n",
        "texto = \"El precio es de {} pesos\"\n",
        "# Formato en Python 2\n",
        "print(texto.format(precio))\n",
        "# Formato en Python 3\n",
        "print(f\"El precio es de {precio} pesos\")\n"
      ],
      "metadata": {
        "id": "CAabExhhImr-",
        "colab": {
          "base_uri": "https://localhost:8080/"
        },
        "outputId": "2a9de9c6-cc08-482a-e0c5-5e33472d51bb"
      },
      "execution_count": null,
      "outputs": [
        {
          "output_type": "stream",
          "name": "stdout",
          "text": [
            "El precio es de 560 pesos\n",
            "El precio es de 560 pesos\n"
          ]
        }
      ]
    },
    {
      "cell_type": "code",
      "source": [
        "precio=34.678434\n",
        "texto = \"El precio es de {:.3f} pesos\"\n",
        "# Formato en Python 2\n",
        "print(texto.format(precio))\n",
        "# Formato en Python 3\n",
        "print(f\"El precio es de {:.3f} pesos\")"
      ],
      "metadata": {
        "colab": {
          "base_uri": "https://localhost:8080/"
        },
        "id": "rpfsSghZJvsB",
        "outputId": "4986ecf5-3b7d-4559-8097-0cacac190480"
      },
      "execution_count": null,
      "outputs": [
        {
          "output_type": "stream",
          "name": "stdout",
          "text": [
            "El precio es de 34.678 pesos\n"
          ]
        }
      ]
    },
    {
      "cell_type": "code",
      "source": [
        "cantidad= 3\n",
        "codigo = 567\n",
        "precio = 49.75\n",
        "# Formato en Python 2\n",
        "miOrden = \"Quiero {} piezas, con el código {} y con costo de {:.2f} pesos.\"\n",
        "print(miOrden.format(cantidad, codigo, precio))\n",
        "# Formato en Python 3\n",
        "print(f\"Quiero {cantidad} piezas, con el codigo {codigo} y con costo de {precio :.2f} pesos.\")"
      ],
      "metadata": {
        "colab": {
          "base_uri": "https://localhost:8080/"
        },
        "id": "1kAVC836J784",
        "outputId": "a281e12f-8023-47e4-8cc6-9e86927a0a8b"
      },
      "execution_count": null,
      "outputs": [
        {
          "output_type": "stream",
          "name": "stdout",
          "text": [
            "Quiero 3 piezas, con el código 567 y con costo de 49.75 pesos.\n",
            "Quiero 3 piezas, con el codigo 567 y con costo de 49.75 pesos.\n"
          ]
        }
      ]
    },
    {
      "cell_type": "markdown",
      "source": [
        "**Comentario**\n",
        "\n",
        "- Formato Python 2 y Python 3: Ambos métodos funcionan para insertar variables en cadenas. El formato en Python 3 es más moderno y flexible, usando f-strings para una sintaxis más limpia y directa.\n",
        "\n",
        "- La especificación de precisión decimal :.3f y :.2f en los f-strings asegura que los números flotantes se impriman con el número de decimales deseado."
      ],
      "metadata": {
        "id": "aV7g1tZJC_qk"
      }
    },
    {
      "cell_type": "markdown",
      "source": [
        "# Toma de datos del teclado"
      ],
      "metadata": {
        "id": "OdAKICJV0i3s"
      }
    },
    {
      "cell_type": "code",
      "source": [
        "nombre = input(\"Dame tu nombre: \")\n",
        "edad = int(input(\"¿Cuál es tu edad?: \"))\n",
        "peso = float(input(\"¿Cuanto pesas? :\"))\n",
        "\n",
        "print(f\"Te llamas {nombre}\\n. Tienes {edad} años.\\n Pesas {peso:.2f} kgs.\")"
      ],
      "metadata": {
        "id": "2Lil99Pq0uTQ",
        "colab": {
          "base_uri": "https://localhost:8080/"
        },
        "outputId": "5bb402ba-94d6-4cd2-8a9a-669937fdf572"
      },
      "execution_count": 9,
      "outputs": [
        {
          "output_type": "stream",
          "name": "stdout",
          "text": [
            "Dame tu nombre: Gloria\n",
            "¿Cuál es tu edad?: 22\n",
            "¿Cuanto pesas? :55\n",
            "Te llamas Gloria\n",
            ". Tienes 22 años.\n",
            " Pesas 55.00 kgs.\n"
          ]
        }
      ]
    },
    {
      "cell_type": "markdown",
      "source": [
        "**Comentario**\n",
        "\n",
        "La función input() permite al usuario ingresar datos desde el teclado. Estos datos se convierten a los tipos apropiados (int y float) para su uso posterior.\n",
        "\n",
        "El resultado se formatea usando f-strings para incluir variables y controlar el formato de los números."
      ],
      "metadata": {
        "id": "l1ojU93FDq7M"
      }
    },
    {
      "cell_type": "markdown",
      "source": [
        "# Códigos Unicode"
      ],
      "metadata": {
        "id": "CTsKVk6-Kq3f"
      }
    },
    {
      "cell_type": "code",
      "source": [
        "print(\"\\U0001F525\")  # Imprime una flama\n",
        "print(\"\\U0001F606\")  # Imorime carita sonrite\n",
        "print(\"\\U0001F60F\")  # Imprime carita\n",
        "print(\"👨‍🏫\")         # Liga: https://emojiterra.com/\n",
        "print(\"👩‍🎓\")\n",
        "print(\"🤖\")"
      ],
      "metadata": {
        "id": "mewScyjZKyCC",
        "colab": {
          "base_uri": "https://localhost:8080/"
        },
        "outputId": "561a72c6-2bda-46de-9228-30e949f92011"
      },
      "execution_count": null,
      "outputs": [
        {
          "output_type": "stream",
          "name": "stdout",
          "text": [
            "🔥\n",
            "😆\n",
            "😏\n",
            "👨‍🏫\n",
            "👩‍🎓\n",
            "🤖\n"
          ]
        }
      ]
    },
    {
      "cell_type": "markdown",
      "source": [
        "Comentario:\n",
        "\n",
        "Los códigos Unicode permiten imprimir emojis y símbolos especiales en la consola. Estos se especifican usando secuencias de escape Unicode."
      ],
      "metadata": {
        "id": "uNG_Q0XQDywn"
      }
    },
    {
      "cell_type": "markdown",
      "source": [
        "# Color de texto\n",
        "~~~\n",
        "|Estilos        | Color Texto   |Color Fondo    |\n",
        "|0 - Sin efecto | 30 - Negro    | 40 - Negro    |\n",
        "|1 - Negrita    | 31 - Rojo     | 41 - Rojo     |\n",
        "|2 - Debil      | 32 - Verde    | 42 - Verde    |\n",
        "|3 - Cursiva    | 33 - Amarillo | 43 - Amarillo |\n",
        "|4 - Subrayado  | 34 - Azul     | 44 - Azul     |\n",
        "|5 - Intenso    | 35 - Morado   | 45 - Moredado |\n",
        "|6 - Oculto     | 36 - Cyan     | 46 - Cyan     |\n",
        "|7 - Tachado    | 37 - Blanco   | 47 - Blanco   |\n",
        "~~~\n",
        "\n",
        "ESC [ estilo ; color ; fondo m  TEXTO  ESC[0m\n"
      ],
      "metadata": {
        "id": "oUjEB9FyOerK"
      }
    },
    {
      "cell_type": "code",
      "source": [
        "ESC=chr(27)\n",
        "estilo=0\n",
        "color=36\n",
        "fondo=40\n",
        "print(f\"{ESC}[{estilo};{color};{fondo}m         Texto         {ESC}[0m\",end= \"\")"
      ],
      "metadata": {
        "id": "0jGVKP3qOjVF",
        "colab": {
          "base_uri": "https://localhost:8080/"
        },
        "outputId": "798cb592-baa0-4c5a-be53-a1927633ea91"
      },
      "execution_count": 11,
      "outputs": [
        {
          "output_type": "stream",
          "name": "stdout",
          "text": [
            "\u001b[0;36;40m         Texto         \u001b[0m"
          ]
        }
      ]
    },
    {
      "cell_type": "markdown",
      "source": [
        "**Comentario**\n",
        "\n",
        "- El código de escape \"ESC\" (representado por \"chr(27)\") se utiliza para aplicar estilos y colores al texto en la consola.\n",
        "\n",
        "- estilo: 0 para \"sin efecto\", color: 36 para \"cian\", y fondo: 40 para negro.\n",
        "\n",
        "- El texto es coloreado en cian sobre un fondo azul, y ESC[0m restablece el color al valor predeterminado.\n",
        "\n",
        "Creo que esto solo es para repazo, es facil de deducir con la tabla que nos proporcionaron jaja."
      ],
      "metadata": {
        "id": "tCP8qR2zEFrU"
      }
    },
    {
      "cell_type": "markdown",
      "source": [
        "# Operadores Aritméticos"
      ],
      "metadata": {
        "id": "uXuNReGDZz-N"
      }
    },
    {
      "cell_type": "code",
      "source": [
        "num1 = -5\n",
        "num2= 3\n",
        "suma = num1 + num2     # Suma\n",
        "resta = num1 - num2    # Resta\n",
        "mult = num1 * num2     # Multiplicacion\n",
        "exp = num1 ** num2     # Exponenciacion\n",
        "div = num1 / num2      # Division\n",
        "residuo = num1 // num2  # Resido Div. Entera\n",
        "divEnt = num1 % num2  # Div Entera\n",
        "\n",
        "print(f\"Número 1: {num1}, Número 2: {num2}\")\n",
        "print(f\"Suma: {suma}, Resta: {resta}, Mult: {mult}\")\n",
        "print(f\"Exp: {exp}, Div: {div}, DivEnt: {divEnt}, Residuo: {residuo}\")"
      ],
      "metadata": {
        "id": "Z63lH_UCZ9iR",
        "colab": {
          "base_uri": "https://localhost:8080/"
        },
        "outputId": "ed7f64c0-48d7-467c-bfcd-05b3dd516edf"
      },
      "execution_count": 12,
      "outputs": [
        {
          "output_type": "stream",
          "name": "stdout",
          "text": [
            "Número 1: -5, Número 2: 3\n",
            "Suma: -2, Resta: -8, Mult: -15\n",
            "Exp: -125, Div: -1.6666666666666667, DivEnt: 1, Residuo: -2\n"
          ]
        }
      ]
    },
    {
      "cell_type": "markdown",
      "source": [
        "**Comentario**\n",
        "\n",
        "Como vimos en el curso:\n",
        "- Suma (+), Resta (-), Multiplicación (*), Exponenciación (**), División (/), División Entera (//), y Residuo (%) funcionan como se espera.\n",
        "\n",
        "- La División da un resultado flotante, mientras que la División Entera y el Residuo devuelven enteros."
      ],
      "metadata": {
        "id": "hSXA9wrbExkw"
      }
    },
    {
      "cell_type": "markdown",
      "source": [
        "# Incrementos / Decrementos\n",
        "   Variable = varible operador constante  ( sum = sum + 1 )\n",
        "   variable operador = constante          ( sum += 1      )"
      ],
      "metadata": {
        "id": "HGRUOl5sbGwN"
      }
    },
    {
      "cell_type": "code",
      "source": [
        "contador = 1\n",
        "contador += 1  #  Es igual a: contador = contador + 1\n",
        "print(contador)\n",
        "\n",
        "contador2 = 10\n",
        "contador2 -= 1  #  Es igual a: contador2 = contador2 - 1\n",
        "print(contador2)"
      ],
      "metadata": {
        "id": "yZSswke8bKCc",
        "colab": {
          "base_uri": "https://localhost:8080/"
        },
        "outputId": "3e19ab06-ba9a-40d9-e1fb-4663e368dbc8"
      },
      "execution_count": 13,
      "outputs": [
        {
          "output_type": "stream",
          "name": "stdout",
          "text": [
            "2\n",
            "9\n"
          ]
        }
      ]
    },
    {
      "cell_type": "markdown",
      "source": [
        "**Comentario**\n",
        "\n",
        "Incremento (+= 1) y Decremento (-= 1) modifican el valor de las variables correctamente."
      ],
      "metadata": {
        "id": "aC4zNzA0FGPu"
      }
    },
    {
      "cell_type": "markdown",
      "source": [
        "# Rangos\n",
        "  range( valor_inical, valor_final - 1, incremento)"
      ],
      "metadata": {
        "id": "bn-NiLfD-nSm"
      }
    },
    {
      "cell_type": "code",
      "source": [
        "nums=range(10)          # nums toma los valores de 0 a 9\n",
        "print(nums)\n",
        "\n",
        "nums2=range(0, 11, 2)   # nums2 toma los valores de 0 a 10 incrementando 2\n",
        "print(nums2)\n",
        "\n",
        "nums3=range(10, 0, -2)  # nums3 toma los valores de 10 a 1 decremenetado 2\n",
        "print(nums3)\n",
        "\n",
        "nums4=range(10, 0)      # nums4 toma los valores de 10 a 1 decremenetado 1\n",
        "print(nums4)"
      ],
      "metadata": {
        "id": "b5ktSghi-zUJ",
        "colab": {
          "base_uri": "https://localhost:8080/"
        },
        "outputId": "344a715c-25b3-438e-d9c7-3962d23f56b1"
      },
      "execution_count": 14,
      "outputs": [
        {
          "output_type": "stream",
          "name": "stdout",
          "text": [
            "range(0, 10)\n",
            "range(0, 11, 2)\n",
            "range(10, 0, -2)\n",
            "range(10, 0)\n"
          ]
        }
      ]
    },
    {
      "cell_type": "markdown",
      "source": [
        "**Comentario:**\n",
        "\n",
        "La función \"range()\" genera secuencias de números basadas en los valores de inicio, final e incremento. El rango es \"excluyente\" en el valor final."
      ],
      "metadata": {
        "id": "Zm5BYUaHFOV1"
      }
    },
    {
      "cell_type": "markdown",
      "source": [
        "# Operadores de comparación"
      ],
      "metadata": {
        "id": "--QvTgkhbl0H"
      }
    },
    {
      "cell_type": "code",
      "source": [
        "num1 = 1\n",
        "num2 = 2\n",
        "print(\"¿Son iguales?\",num1 == num2)   # Igual a\n",
        "print(num1 > num2)    # Mayor que\n",
        "print(num1 >= num2)   # Mayor o igual\n",
        "print(num1 < num2)    # Menor que\n",
        "print(num1 <= num2)   # Menor o igual\n",
        "print(\"¿Son diferentes?\",num1 != num2)   # Diferente"
      ],
      "metadata": {
        "colab": {
          "base_uri": "https://localhost:8080/"
        },
        "id": "NyxwcpvJbpUc",
        "outputId": "bc3c4687-c81c-437f-d93e-d640e0eeec3b"
      },
      "execution_count": 15,
      "outputs": [
        {
          "output_type": "stream",
          "name": "stdout",
          "text": [
            "¿Son iguales? False\n",
            "False\n",
            "False\n",
            "True\n",
            "True\n",
            "¿Son diferentes? True\n"
          ]
        }
      ]
    },
    {
      "cell_type": "markdown",
      "source": [
        "**Comentario**\n",
        "\n",
        "Los operadores de comparación (==, >, >=, <, <=, !=) permiten comparar valores y retornan resultados booleanos (True o False)."
      ],
      "metadata": {
        "id": "svmCoJx8FZWX"
      }
    },
    {
      "cell_type": "markdown",
      "source": [
        "# Operadores lógicos"
      ],
      "metadata": {
        "id": "bWU9DSqNdeZs"
      }
    },
    {
      "cell_type": "code",
      "source": [
        "uno = True\n",
        "otro = False\n",
        "print(uno and otro)   #  Y\n",
        "print(uno or otro)    #  O\n",
        "print(not uno)        #  NOT\n",
        "print(not otro)"
      ],
      "metadata": {
        "id": "Vy0QZEBGdlV1",
        "colab": {
          "base_uri": "https://localhost:8080/"
        },
        "outputId": "0065a817-dfe6-4b91-bc77-cd78b0efd01e"
      },
      "execution_count": null,
      "outputs": [
        {
          "output_type": "stream",
          "name": "stdout",
          "text": [
            "False\n",
            "True\n",
            "False\n",
            "True\n"
          ]
        }
      ]
    },
    {
      "cell_type": "markdown",
      "source": [
        "**Comentario**\n",
        "\n",
        "- and: Retorna True solo si ambos operandos son True.\n",
        "\n",
        "- or: Retorna True si al menos uno de los operandos es True.\n",
        "\n",
        "- not: Invierte el valor booleano."
      ],
      "metadata": {
        "id": "NK98qKCEFgRV"
      }
    },
    {
      "cell_type": "markdown",
      "source": [
        "**Conclusión**\n",
        "\n",
        "En esta actividad, hemos analizado los resultados obtenidos a partir de los códigos proporcionados. He añadido comentarios y notas que, más allá de servir como recordatorios, reflejan lo que hemos aprendido hasta ahora en el curso, así como algunas recomendaciones adicionales que he adquirido en la escuela. Si he cometido algún error o hay áreas que se pueden mejorar, agradeceré su retroalimentación para seguir aprendiendo juntos. 😊"
      ],
      "metadata": {
        "id": "4SdEqYynFnw6"
      }
    }
  ]
}